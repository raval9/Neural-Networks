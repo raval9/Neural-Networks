{
  "nbformat": 4,
  "nbformat_minor": 0,
  "metadata": {
    "colab": {
      "provenance": []
    },
    "kernelspec": {
      "name": "python3",
      "display_name": "Python 3"
    },
    "language_info": {
      "name": "python"
    }
  },
  "cells": [
    {
      "cell_type": "code",
      "source": [
        "def string_alternative(full_name):\n",
        "    return full_name[::2]\n",
        "\n",
        "def main():\n",
        "    first_name = input(\"Enter your first name: \")\n",
        "    last_name = input(\"Enter your last name: \")\n",
        "\n",
        "    full_name = first_name + \" \" + last_name\n",
        "    print(\"Full name:\", full_name)\n",
        "\n",
        "    alternate_chars = string_alternative(full_name)\n",
        "    print(\"Every other character in the full name:\", alternate_chars)\n",
        "\n",
        "if __name__ == \"__main__\":\n",
        "    main()\n"
      ],
      "metadata": {
        "colab": {
          "base_uri": "https://localhost:8080/"
        },
        "id": "YSKnATejuJfO",
        "outputId": "1ce35a08-c186-4340-aa71-9dca74b084a1"
      },
      "execution_count": null,
      "outputs": [
        {
          "output_type": "stream",
          "name": "stdout",
          "text": [
            "Enter your first name: ravalika\n",
            "Enter your last name: marapally\n",
            "Full name: ravalika marapally\n",
            "Every other character in the full name: rvlk aaal\n"
          ]
        }
      ]
    }
  ]
}