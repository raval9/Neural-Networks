{
  "nbformat": 4,
  "nbformat_minor": 0,
  "metadata": {
    "colab": {
      "provenance": []
    },
    "kernelspec": {
      "name": "python3",
      "display_name": "Python 3"
    },
    "language_info": {
      "name": "python"
    }
  },
  "cells": [
    {
      "cell_type": "code",
      "source": [
        "def convert_to_cm(height_in_inches):\n",
        "    # Conversion factor: 1 inch = 2.54 cm\n",
        "    return height_in_inches * 2.54\n",
        "\n",
        "def convert_heights_nested_loop(heights):\n",
        "    heights_in_cm = []\n",
        "    for height in heights:\n",
        "        cm = convert_to_cm(height)\n",
        "        heights_in_cm.append(round(cm, 2))\n",
        "    return heights_in_cm\n",
        "\n",
        "def convert_heights_list_comprehension(heights):\n",
        "    return [round(convert_to_cm(height), 2) for height in heights]\n",
        "\n",
        "def main():\n",
        "    heights = []\n",
        "\n",
        "    # Reading heights from the user\n",
        "    num_customers = int(input(\"Enter the number of customers: \"))\n",
        "    for i in range(num_customers):\n",
        "        height = float(input(f\"Enter height in inches for customer {i + 1}: \"))\n",
        "        heights.append(height)\n",
        "\n",
        "    # Using nested interactive loop to convert heights\n",
        "    heights_nested_loop = convert_heights_nested_loop(heights)\n",
        "    print(\"\\nUsing Nested Interactive Loop:\")\n",
        "    print(\"Input Heights (in inches):\", heights)\n",
        "    print(\"Heights in Centimeters:\", heights_nested_loop)\n",
        "\n",
        "    # Using list comprehension to convert heights\n",
        "    heights_list_comp = convert_heights_list_comprehension(heights)\n",
        "    print(\"\\nUsing List Comprehension:\")\n",
        "    print(\"Input Heights (in inches):\", heights)\n",
        "    print(\"Heights in Centimeters:\", heights_list_comp)\n",
        "\n",
        "if __name__ == \"__main__\":\n",
        "    main()\n"
      ],
      "metadata": {
        "colab": {
          "base_uri": "https://localhost:8080/"
        },
        "id": "EE58cBywxYqH",
        "outputId": "f1ef5ff4-6cc6-4f44-e8d9-2e95e1ac5185"
      },
      "execution_count": null,
      "outputs": [
        {
          "output_type": "stream",
          "name": "stdout",
          "text": [
            "Enter the number of customers: 2\n",
            "Enter height in inches for customer 1: 120\n",
            "Enter height in inches for customer 2: 125\n",
            "\n",
            "Using Nested Interactive Loop:\n",
            "Input Heights (in inches): [120.0, 125.0]\n",
            "Heights in Centimeters: [304.8, 317.5]\n",
            "\n",
            "Using List Comprehension:\n",
            "Input Heights (in inches): [120.0, 125.0]\n",
            "Heights in Centimeters: [304.8, 317.5]\n"
          ]
        }
      ]
    }
  ]
}