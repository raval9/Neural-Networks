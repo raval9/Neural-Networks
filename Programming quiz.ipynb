{
  "nbformat": 4,
  "nbformat_minor": 0,
  "metadata": {
    "colab": {
      "provenance": []
    },
    "kernelspec": {
      "name": "python3",
      "display_name": "Python 3"
    },
    "language_info": {
      "name": "python"
    }
  },
  "cells": [
    {
      "cell_type": "code",
      "source": [
        "from google.colab import drive\n",
        "drive.mount('/content/drive')"
      ],
      "metadata": {
        "colab": {
          "base_uri": "https://localhost:8080/"
        },
        "id": "v1fiNYDRPsnv",
        "outputId": "49169173-fea2-41d6-fcf2-d1efc0405e33"
      },
      "execution_count": 35,
      "outputs": [
        {
          "output_type": "stream",
          "name": "stdout",
          "text": [
            "Drive already mounted at /content/drive; to attempt to forcibly remount, call drive.mount(\"/content/drive\", force_remount=True).\n"
          ]
        }
      ]
    },
    {
      "cell_type": "markdown",
      "source": [
        "Time series forecasting task"
      ],
      "metadata": {
        "id": "-GBEgKwyWg8N"
      }
    },
    {
      "cell_type": "code",
      "source": [
        "import numpy as np\n",
        "import pandas as pd\n",
        "from sklearn.preprocessing import MinMaxScaler\n",
        "from sklearn.model_selection import train_test_split"
      ],
      "metadata": {
        "id": "1coHio5kQoOO"
      },
      "execution_count": null,
      "outputs": []
    },
    {
      "cell_type": "code",
      "source": [
        "data = pd.read_csv('/content/drive/MyDrive/N-N-D-L/dailyclimate.csv')\n",
        "print(data)"
      ],
      "metadata": {
        "colab": {
          "base_uri": "https://localhost:8080/"
        },
        "id": "qADWMgd8SMWm",
        "outputId": "b33c7574-ef42-42d0-c743-0e94d4ebe18c"
      },
      "execution_count": 30,
      "outputs": [
        {
          "output_type": "stream",
          "name": "stdout",
          "text": [
            "           date   meantemp   humidity  wind_speed  meanpressure\n",
            "0    2017-01-01  15.913043  85.869565    2.743478     59.000000\n",
            "1    2017-01-02  18.500000  77.222222    2.894444   1018.277778\n",
            "2    2017-01-03  17.111111  81.888889    4.016667   1018.333333\n",
            "3    2017-01-04  18.700000  70.050000    4.545000   1015.700000\n",
            "4    2017-01-05  18.388889  74.944444    3.300000   1014.333333\n",
            "..          ...        ...        ...         ...           ...\n",
            "109  2017-04-20  34.500000  27.500000    5.562500    998.625000\n",
            "110  2017-04-21  34.250000  39.375000    6.962500    999.875000\n",
            "111  2017-04-22  32.900000  40.900000    8.890000   1001.600000\n",
            "112  2017-04-23  32.875000  27.500000    9.962500   1002.125000\n",
            "113  2017-04-24  32.000000  27.142857   12.157143   1004.142857\n",
            "\n",
            "[114 rows x 5 columns]\n"
          ]
        }
      ]
    },
    {
      "cell_type": "code",
      "source": [],
      "metadata": {
        "id": "9Y7Va1GpVXX7"
      },
      "execution_count": null,
      "outputs": []
    },
    {
      "cell_type": "code",
      "source": [
        "print(\"Missing values:\\n\", data.isnull().sum())\n"
      ],
      "metadata": {
        "colab": {
          "base_uri": "https://localhost:8080/"
        },
        "id": "iRu1DS7RVXeK",
        "outputId": "f9afb043-fb47-4cb1-cd59-e5dbb8d64922"
      },
      "execution_count": 31,
      "outputs": [
        {
          "output_type": "stream",
          "name": "stdout",
          "text": [
            "Missing values:\n",
            " date            0\n",
            "meantemp        0\n",
            "humidity        0\n",
            "wind_speed      0\n",
            "meanpressure    0\n",
            "dtype: int64\n"
          ]
        }
      ]
    },
    {
      "cell_type": "code",
      "source": [
        "# Drop rows with missing values\n",
        "data.dropna(inplace=True)\n",
        "\n",
        "# Convert 'date' column to datetime format\n",
        "data['date'] = pd.to_datetime(data['date'])\n",
        "\n",
        "# Sort the dataframe based on the 'date' column\n",
        "data.sort_values(by='date', inplace=True)\n",
        "\n",
        "# Use only the 'temperature' column for this example\n",
        "# You can adjust this based on your specific forecasting task\n",
        "data = data[['date', 'meantemp']]\n",
        "\n",
        "# Set 'date' column as index\n",
        "data.set_index('date', inplace=True)\n",
        "\n",
        "# Scale the data\n",
        "scaler = MinMaxScaler()\n",
        "scaled_data = scaler.fit_transform(data)\n",
        "\n",
        "# Define a function to create input and target sequences\n",
        "def create_sequences(data, sequence_length):\n",
        "    X, Y = [], []\n",
        "    for i in range(len(data) - sequence_length):\n",
        "        X.append(data[i:i+sequence_length])\n",
        "        Y.append(data[i+sequence_length])\n",
        "    return np.array(X), np.array(Y)\n",
        "\n",
        "# Define sequence length (number of timesteps to look back)\n",
        "sequence_length = 30\n",
        "\n",
        "# Create input and target sequences\n",
        "X, Y = create_sequences(scaled_data, sequence_length)\n",
        "\n",
        "# Split the data into training and testing sets\n",
        "X_train, X_test, Y_train, Y_test = train_test_split(X, Y, test_size=0.2, shuffle=False)\n",
        "\n",
        "# Print shapes of training and testing sets\n",
        "print(\"X_train shape:\", X_train.shape)\n",
        "print(\"Y_train shape:\", Y_train.shape)\n",
        "print(\"X_test shape:\", X_test.shape)\n",
        "print(\"Y_test shape:\", Y_test.shape)"
      ],
      "metadata": {
        "colab": {
          "base_uri": "https://localhost:8080/"
        },
        "id": "Wxg_5BdlVczS",
        "outputId": "9b9e8bf1-a463-4577-9765-631b4a5a0415"
      },
      "execution_count": 32,
      "outputs": [
        {
          "output_type": "stream",
          "name": "stdout",
          "text": [
            "X_train shape: (67, 30, 1)\n",
            "Y_train shape: (67, 1)\n",
            "X_test shape: (17, 30, 1)\n",
            "Y_test shape: (17, 1)\n"
          ]
        }
      ]
    },
    {
      "cell_type": "code",
      "source": [
        "from keras.models import Sequential\n",
        "from keras.layers import LSTM, Dense, Dropout\n",
        "from sklearn.metrics import mean_absolute_error, mean_squared_error\n",
        "import matplotlib.pyplot as plt\n",
        "\n",
        "# Build the LSTM model\n",
        "model = Sequential()\n",
        "model.add(LSTM(units=50, return_sequences=True, input_shape=(X_train.shape[1], X_train.shape[2])))\n",
        "model.add(Dropout(0.2))\n",
        "model.add(LSTM(units=50, return_sequences=False))\n",
        "model.add(Dropout(0.2))\n",
        "model.add(Dense(units=1))\n",
        "\n",
        "# Compile the model\n",
        "model.compile(optimizer='adam', loss='mean_squared_error')\n",
        "\n",
        "# Train the model\n",
        "history = model.fit(X_train, Y_train, epochs=50, batch_size=32, validation_split=0.1, verbose=1)\n",
        "\n",
        "# Make predictions\n",
        "predictions = model.predict(X_test)\n",
        "predictions = scaler.inverse_transform(predictions)\n",
        "actual = scaler.inverse_transform(Y_test)\n",
        "\n",
        "# Evaluate the model\n",
        "mae = mean_absolute_error(actual, predictions)\n",
        "rmse = np.sqrt(mean_squared_error(actual, predictions))\n",
        "print(\"Mean Absolute Error:\", mae)\n",
        "print(\"Root Mean Squared Error:\", rmse)\n",
        "\n",
        "# Plot the results\n",
        "plt.figure(figsize=(14, 6))\n",
        "plt.plot(actual, label='Actual Temperature')\n",
        "plt.plot(predictions, label='Predicted Temperature')\n",
        "plt.xlabel('Time')\n",
        "plt.ylabel('Temperature')\n",
        "plt.title('Temperature Forecasting with LSTM')\n",
        "plt.legend()\n",
        "plt.show()"
      ],
      "metadata": {
        "colab": {
          "base_uri": "https://localhost:8080/",
          "height": 1000
        },
        "id": "0X7D4ZKrVkjW",
        "outputId": "2130fda3-44ec-40d3-ebb3-710fe13be5b5"
      },
      "execution_count": 33,
      "outputs": [
        {
          "output_type": "stream",
          "name": "stdout",
          "text": [
            "Epoch 1/50\n",
            "2/2 [==============================] - 20s 1s/step - loss: 0.2065 - val_loss: 0.4412\n",
            "Epoch 2/50\n",
            "2/2 [==============================] - 0s 75ms/step - loss: 0.1327 - val_loss: 0.2509\n",
            "Epoch 3/50\n",
            "2/2 [==============================] - 0s 80ms/step - loss: 0.0730 - val_loss: 0.0899\n",
            "Epoch 4/50\n",
            "2/2 [==============================] - 0s 83ms/step - loss: 0.0306 - val_loss: 0.0080\n",
            "Epoch 5/50\n",
            "2/2 [==============================] - 0s 83ms/step - loss: 0.0258 - val_loss: 0.0298\n",
            "Epoch 6/50\n",
            "2/2 [==============================] - 0s 69ms/step - loss: 0.0484 - val_loss: 0.0150\n",
            "Epoch 7/50\n",
            "2/2 [==============================] - 0s 70ms/step - loss: 0.0332 - val_loss: 0.0092\n",
            "Epoch 8/50\n",
            "2/2 [==============================] - 0s 84ms/step - loss: 0.0204 - val_loss: 0.0285\n",
            "Epoch 9/50\n",
            "2/2 [==============================] - 0s 82ms/step - loss: 0.0193 - val_loss: 0.0498\n",
            "Epoch 10/50\n",
            "2/2 [==============================] - 0s 74ms/step - loss: 0.0249 - val_loss: 0.0584\n",
            "Epoch 11/50\n",
            "2/2 [==============================] - 0s 78ms/step - loss: 0.0265 - val_loss: 0.0536\n",
            "Epoch 12/50\n",
            "2/2 [==============================] - 0s 84ms/step - loss: 0.0273 - val_loss: 0.0390\n",
            "Epoch 13/50\n",
            "2/2 [==============================] - 0s 131ms/step - loss: 0.0244 - val_loss: 0.0239\n",
            "Epoch 14/50\n",
            "2/2 [==============================] - 0s 125ms/step - loss: 0.0172 - val_loss: 0.0130\n",
            "Epoch 15/50\n",
            "2/2 [==============================] - 0s 127ms/step - loss: 0.0178 - val_loss: 0.0082\n",
            "Epoch 16/50\n",
            "2/2 [==============================] - 0s 114ms/step - loss: 0.0200 - val_loss: 0.0072\n",
            "Epoch 17/50\n",
            "2/2 [==============================] - 0s 104ms/step - loss: 0.0244 - val_loss: 0.0071\n",
            "Epoch 18/50\n",
            "2/2 [==============================] - 0s 99ms/step - loss: 0.0210 - val_loss: 0.0072\n",
            "Epoch 19/50\n",
            "2/2 [==============================] - 0s 92ms/step - loss: 0.0168 - val_loss: 0.0079\n",
            "Epoch 20/50\n",
            "2/2 [==============================] - 0s 103ms/step - loss: 0.0192 - val_loss: 0.0091\n",
            "Epoch 21/50\n",
            "2/2 [==============================] - 0s 85ms/step - loss: 0.0198 - val_loss: 0.0115\n",
            "Epoch 22/50\n",
            "2/2 [==============================] - 0s 98ms/step - loss: 0.0159 - val_loss: 0.0131\n",
            "Epoch 23/50\n",
            "2/2 [==============================] - 0s 120ms/step - loss: 0.0143 - val_loss: 0.0135\n",
            "Epoch 24/50\n",
            "2/2 [==============================] - 0s 130ms/step - loss: 0.0159 - val_loss: 0.0126\n",
            "Epoch 25/50\n",
            "2/2 [==============================] - 0s 111ms/step - loss: 0.0166 - val_loss: 0.0101\n",
            "Epoch 26/50\n",
            "2/2 [==============================] - 0s 111ms/step - loss: 0.0166 - val_loss: 0.0083\n",
            "Epoch 27/50\n",
            "2/2 [==============================] - 0s 114ms/step - loss: 0.0152 - val_loss: 0.0073\n",
            "Epoch 28/50\n",
            "2/2 [==============================] - 0s 109ms/step - loss: 0.0185 - val_loss: 0.0076\n",
            "Epoch 29/50\n",
            "2/2 [==============================] - 0s 87ms/step - loss: 0.0156 - val_loss: 0.0078\n",
            "Epoch 30/50\n",
            "2/2 [==============================] - 0s 92ms/step - loss: 0.0143 - val_loss: 0.0076\n",
            "Epoch 31/50\n",
            "2/2 [==============================] - 0s 87ms/step - loss: 0.0142 - val_loss: 0.0076\n",
            "Epoch 32/50\n",
            "2/2 [==============================] - 0s 92ms/step - loss: 0.0133 - val_loss: 0.0077\n",
            "Epoch 33/50\n",
            "2/2 [==============================] - 0s 136ms/step - loss: 0.0153 - val_loss: 0.0079\n",
            "Epoch 34/50\n",
            "2/2 [==============================] - 0s 109ms/step - loss: 0.0146 - val_loss: 0.0083\n",
            "Epoch 35/50\n",
            "2/2 [==============================] - 0s 104ms/step - loss: 0.0153 - val_loss: 0.0093\n",
            "Epoch 36/50\n",
            "2/2 [==============================] - 0s 134ms/step - loss: 0.0152 - val_loss: 0.0108\n",
            "Epoch 37/50\n",
            "2/2 [==============================] - 0s 109ms/step - loss: 0.0153 - val_loss: 0.0119\n",
            "Epoch 38/50\n",
            "2/2 [==============================] - 0s 116ms/step - loss: 0.0150 - val_loss: 0.0121\n",
            "Epoch 39/50\n",
            "2/2 [==============================] - 0s 122ms/step - loss: 0.0161 - val_loss: 0.0125\n",
            "Epoch 40/50\n",
            "2/2 [==============================] - 0s 84ms/step - loss: 0.0141 - val_loss: 0.0120\n",
            "Epoch 41/50\n",
            "2/2 [==============================] - 0s 67ms/step - loss: 0.0137 - val_loss: 0.0132\n",
            "Epoch 42/50\n",
            "2/2 [==============================] - 0s 85ms/step - loss: 0.0142 - val_loss: 0.0155\n",
            "Epoch 43/50\n",
            "2/2 [==============================] - 0s 68ms/step - loss: 0.0146 - val_loss: 0.0166\n",
            "Epoch 44/50\n",
            "2/2 [==============================] - 0s 74ms/step - loss: 0.0145 - val_loss: 0.0156\n",
            "Epoch 45/50\n",
            "2/2 [==============================] - 0s 66ms/step - loss: 0.0141 - val_loss: 0.0148\n",
            "Epoch 46/50\n",
            "2/2 [==============================] - 0s 72ms/step - loss: 0.0101 - val_loss: 0.0170\n",
            "Epoch 47/50\n",
            "2/2 [==============================] - 0s 67ms/step - loss: 0.0147 - val_loss: 0.0198\n",
            "Epoch 48/50\n",
            "2/2 [==============================] - 0s 86ms/step - loss: 0.0156 - val_loss: 0.0228\n",
            "Epoch 49/50\n",
            "2/2 [==============================] - 0s 84ms/step - loss: 0.0137 - val_loss: 0.0271\n",
            "Epoch 50/50\n",
            "2/2 [==============================] - 0s 71ms/step - loss: 0.0140 - val_loss: 0.0305\n",
            "1/1 [==============================] - 1s 878ms/step\n",
            "Mean Absolute Error: 5.72108506559769\n",
            "Root Mean Squared Error: 6.004686987514391\n"
          ]
        },
        {
          "output_type": "display_data",
          "data": {
            "text/plain": [
              "<Figure size 1400x600 with 1 Axes>"
            ],
            "image/png": "[encoded data removed]"
          },
          "metadata": {}
        }
      ]
    },
    {
      "cell_type": "markdown",
      "source": [],
      "metadata": {
        "id": "YJjBA2ruV7ME"
      }
    },
    {
      "cell_type": "markdown",
      "source": [
        "Image Classification Task"
      ],
      "metadata": {
        "id": "uuL_OWkYWHlj"
      }
    },
    {
      "cell_type": "code",
      "source": [
        "import numpy as np\n",
        "import matplotlib.pyplot as plt\n",
        "from sklearn.model_selection import GridSearchCV\n",
        "from tensorflow.keras.datasets import mnist\n",
        "from tensorflow.keras.models import Sequential\n",
        "from tensorflow.keras.layers import Conv2D, MaxPooling2D, Flatten, Dense\n",
        "from tensorflow.keras.optimizers import Adam\n",
        "from tensorflow.keras.callbacks import ReduceLROnPlateau\n",
        "from tensorflow.keras.wrappers.scikit_learn import KerasClassifier\n",
        "\n",
        "\n",
        "# Load MNIST dataset\n",
        "(X_train, y_train), (X_test, y_test) = mnist.load_data()\n",
        "\n",
        "\n",
        "# Reshape and normalize the input data\n",
        "X_train = X_train.reshape(X_train.shape[0], 28, 28, 1) / 255.0\n",
        "X_test = X_test.reshape(X_test.shape[0], 28, 28, 1) / 255.0\n",
        "\n",
        "# Define the CNN model\n",
        "def create_model(optimizer='adam'):\n",
        "    model = Sequential([\n",
        "        Conv2D(32, kernel_size=(3, 3), activation='relu', input_shape=(28, 28, 1)),\n",
        "        MaxPooling2D(pool_size=(2, 2)),\n",
        "        Flatten(),\n",
        "        Dense(128, activation='relu'),\n",
        "        Dense(10, activation='softmax')\n",
        "    ])\n",
        "    model.compile(optimizer=optimizer, loss='sparse_categorical_crossentropy', metrics=['accuracy'])\n",
        "    return model\n",
        "\n",
        "# Create the CNN model\n",
        "model = KerasClassifier(build_fn=create_model, verbose=0)\n",
        "\n",
        "# Define hyperparameters for grid search\n",
        "param_grid = {\n",
        "    'batch_size': [32, 64],\n",
        "    'epochs': [5, 10],\n",
        "    'optimizer': ['adam', 'rmsprop'],\n",
        "}\n",
        "\n",
        "# Perform grid search\n",
        "grid = GridSearchCV(estimator=model, param_grid=param_grid, cv=3)\n",
        "grid_result = grid.fit(X_train, y_train)\n",
        "\n",
        "# Print the best parameters and accuracy\n",
        "print(\"Best Parameters: \", grid_result.best_params_)\n",
        "print(\"Best Accuracy: \", grid_result.best_score_)\n",
        "\n",
        "# Train the final model with the best parameters\n",
        "final_model = create_model(optimizer=grid_result.best_params_['optimizer'])\n",
        "history = final_model.fit(X_train, y_train, batch_size=grid_result.best_params_['batch_size'], epochs=grid_result.best_params_['epochs'], validation_split=0.2, callbacks=[ReduceLROnPlateau()])\n",
        "\n",
        "# Evaluate the model on the test set\n",
        "test_loss, test_acc = final_model.evaluate(X_test, y_test)\n",
        "print(\"Test Accuracy:\", test_acc)\n",
        "\n",
        "# Plot training history\n",
        "plt.plot(history.history['accuracy'], label='accuracy')\n",
        "plt.plot(history.history['val_accuracy'], label = 'val_accuracy')\n",
        "plt.xlabel('Epoch')\n",
        "plt.ylabel('Accuracy')\n",
        "plt.legend(loc='lower right')\n",
        "plt.show()\n"
      ],
      "metadata": {
        "colab": {
          "base_uri": "https://localhost:8080/",
          "height": 384
        },
        "id": "PSdrGRSeWE83",
        "outputId": "ad1b2a2a-68b6-4ee4-e4b5-ac5bf6fa40c3"
      },
      "execution_count": 40,
      "outputs": [
        {
          "output_type": "error",
          "ename": "ModuleNotFoundError",
          "evalue": "No module named 'tensorflow.keras.wrappers'",
          "traceback": [
            "\u001b[0;31m---------------------------------------------------------------------------\u001b[0m",
            "\u001b[0;31mModuleNotFoundError\u001b[0m                       Traceback (most recent call last)",
            "\u001b[0;32m<ipython-input-40-da0de58a72da>\u001b[0m in \u001b[0;36m<cell line: 9>\u001b[0;34m()\u001b[0m\n\u001b[1;32m      7\u001b[0m \u001b[0;32mfrom\u001b[0m \u001b[0mtensorflow\u001b[0m\u001b[0;34m.\u001b[0m\u001b[0mkeras\u001b[0m\u001b[0;34m.\u001b[0m\u001b[0moptimizers\u001b[0m \u001b[0;32mimport\u001b[0m \u001b[0mAdam\u001b[0m\u001b[0;34m\u001b[0m\u001b[0;34m\u001b[0m\u001b[0m\n\u001b[1;32m      8\u001b[0m \u001b[0;32mfrom\u001b[0m \u001b[0mtensorflow\u001b[0m\u001b[0;34m.\u001b[0m\u001b[0mkeras\u001b[0m\u001b[0;34m.\u001b[0m\u001b[0mcallbacks\u001b[0m \u001b[0;32mimport\u001b[0m \u001b[0mReduceLROnPlateau\u001b[0m\u001b[0;34m\u001b[0m\u001b[0;34m\u001b[0m\u001b[0m\n\u001b[0;32m----> 9\u001b[0;31m \u001b[0;32mfrom\u001b[0m \u001b[0mtensorflow\u001b[0m\u001b[0;34m.\u001b[0m\u001b[0mkeras\u001b[0m\u001b[0;34m.\u001b[0m\u001b[0mwrappers\u001b[0m\u001b[0;34m.\u001b[0m\u001b[0mscikit_learn\u001b[0m \u001b[0;32mimport\u001b[0m \u001b[0mKerasClassifier\u001b[0m\u001b[0;34m\u001b[0m\u001b[0;34m\u001b[0m\u001b[0m\n\u001b[0m\u001b[1;32m     10\u001b[0m \u001b[0;34m\u001b[0m\u001b[0m\n\u001b[1;32m     11\u001b[0m \u001b[0;34m\u001b[0m\u001b[0m\n",
            "\u001b[0;31mModuleNotFoundError\u001b[0m: No module named 'tensorflow.keras.wrappers'",
            "",
            "\u001b[0;31m---------------------------------------------------------------------------\u001b[0;32m\nNOTE: If your import is failing due to a missing package, you can\nmanually install dependencies using either !pip or !apt.\n\nTo view examples of installing some common dependencies, click the\n\"Open Examples\" button below.\n\u001b[0;31m---------------------------------------------------------------------------\u001b[0m\n"
          ],
          "errorDetails": {
            "actions": [
              {
                "action": "open_url",
                "actionText": "Open Examples",
                "url": "/notebooks/snippets/importing_libraries.ipynb"
              }
            ]
          }
        }
      ]
    }
  ]
}