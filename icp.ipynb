{
  "nbformat": 4,
  "nbformat_minor": 0,
  "metadata": {
    "colab": {
      "provenance": []
    },
    "kernelspec": {
      "name": "python3",
      "display_name": "Python 3"
    },
    "language_info": {
      "name": "python"
    }
  },
  "cells": [
    {
      "cell_type": "code",
      "execution_count": null,
      "metadata": {
        "id": "81P2ZoIAZSO6"
      },
      "outputs": [],
      "source": []
    },
    {
      "cell_type": "code",
      "source": [
        "# Input string and delete at least 2 characters\n",
        "input_a1 = list(input(\"Enter a string\"))\n",
        "if len(input_a1) >= 2:\n",
        "    del input_a1[-2:]\n",
        "\n",
        "# Reverse the resultant string\n",
        "resultant_string = input_a1[::-1]\n",
        "\n",
        "# Print the reversed string\n",
        "print(\"\".join(resultant_string))\n",
        "\n",
        "\n"
      ],
      "metadata": {
        "colab": {
          "base_uri": "https://localhost:8080/"
        },
        "id": "beqglBwBbpTE",
        "outputId": "32b2a8db-be8a-4cc1-dbfb-0f3d19170779"
      },
      "execution_count": 11,
      "outputs": [
        {
          "output_type": "stream",
          "name": "stdout",
          "text": [
            "Enter a stringpython\n",
            "htyp\n"
          ]
        }
      ]
    },
    {
      "cell_type": "code",
      "source": [
        "\n",
        "# Take two numbers from the user\n",
        "num1 = float(input(\"Enter the first number: \"))\n",
        "num2 = float(input(\"Enter the second number: \"))\n",
        "\n",
        "# Perform arithmetic operations\n",
        "sum_result = num1 + num2\n",
        "difference_result = num1 - num2\n",
        "product_result = num1 * num2\n",
        "quotient_result = num1 / num2\n",
        "\n",
        "# Print the results\n",
        "print(f\"Sum: {sum_result}\")\n",
        "print(f\"Difference: {difference_result}\")\n",
        "print(f\"Product: {product_result}\")\n",
        "print(f\"Quotient: {quotient_result}\")\n"
      ],
      "metadata": {
        "colab": {
          "base_uri": "https://localhost:8080/"
        },
        "id": "CDWdA_bib3az",
        "outputId": "69bda1e4-10a7-4636-d85e-c0385ac6318f"
      },
      "execution_count": 1,
      "outputs": [
        {
          "output_type": "stream",
          "name": "stdout",
          "text": [
            "Enter the first number: 5\n",
            "Enter the second number: 4\n",
            "Sum: 9.0\n",
            "Difference: 1.0\n",
            "Product: 20.0\n",
            "Quotient: 1.25\n"
          ]
        }
      ]
    },
    {
      "cell_type": "code",
      "source": [
        "# Input a sentence\n",
        "input_a1 = input(\"Enter a sentence: \")\n",
        "\n",
        "# Replace 'python' with 'pythons'\n",
        "revised_sentence = input_a1.replace('python', 'pythons')\n",
        "\n",
        "# Print the modified sentence\n",
        "print(revised_sentence)\n"
      ],
      "metadata": {
        "colab": {
          "base_uri": "https://localhost:8080/"
        },
        "id": "Ys98CTFqqnEe",
        "outputId": "00efa149-55c8-412a-9165-63157dead9b8"
      },
      "execution_count": 12,
      "outputs": [
        {
          "output_type": "stream",
          "name": "stdout",
          "text": [
            "Enter a sentence: i love playing with python\n",
            "i love playing with pythons\n"
          ]
        }
      ]
    },
    {
      "cell_type": "code",
      "source": [
        "# Input class score from the user\n",
        "class_score = int(input(\"Enter the class score: \"))\n",
        "\n",
        "# Determine the letter grade based on the grading scheme\n",
        "if 90 <= class_score <= 100:\n",
        "    grade = 'A'\n",
        "elif 80 <= class_score < 90:\n",
        "    grade = 'B'\n",
        "elif 70 <= class_score < 80:\n",
        "    grade = 'C'\n",
        "elif 60 <= class_score < 70:\n",
        "    grade = 'D'\n",
        "else:\n",
        "    grade = 'F'\n",
        "\n",
        "# Print the letter grade\n",
        "print(f\"The letter grade for the class score {class_score} is: {grade}\")\n"
      ],
      "metadata": {
        "colab": {
          "base_uri": "https://localhost:8080/"
        },
        "id": "Hw-GhWIgrLy2",
        "outputId": "5e6e7fa3-82e1-4c4e-f084-ce7bd5a00a77"
      },
      "execution_count": 16,
      "outputs": [
        {
          "output_type": "stream",
          "name": "stdout",
          "text": [
            "Enter the class score: 75\n",
            "The letter grade for the class score 75 is: C\n"
          ]
        }
      ]
    },
    {
      "cell_type": "code",
      "source": [],
      "metadata": {
        "id": "KANuWa_urXn4"
      },
      "execution_count": null,
      "outputs": []
    }
  ]
}