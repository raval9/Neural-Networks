{
  "nbformat": 4,
  "nbformat_minor": 0,
  "metadata": {
    "colab": {
      "provenance": []
    },
    "kernelspec": {
      "name": "python3",
      "display_name": "Python 3"
    },
    "language_info": {
      "name": "python"
    }
  },
  "cells": [
    {
      "cell_type": "code",
      "execution_count": 1,
      "metadata": {
        "colab": {
          "base_uri": "https://localhost:8080/"
        },
        "id": "CGcZyYfXtXTh",
        "outputId": "ec5f17cc-62cb-471c-a5ca-007a32d745b3"
      },
      "outputs": [
        {
          "output_type": "stream",
          "name": "stdout",
          "text": [
            "Original random vector:\n",
            "[13.02225167 18.87065097 17.8354262  17.41499279  1.50230481  4.87139474\n",
            " 12.19912795 16.60632551  5.9711424   1.70720274  4.52038826  4.46486723\n",
            "  4.37223279 17.92375719  2.91726656 11.63081212 15.17005715  4.41907387\n",
            " 14.44361918  8.95435151]\n",
            "\n",
            "Reshaped array with max values replaced by 0:\n",
            "[[13.02225167  0.         17.8354262  17.41499279  1.50230481]\n",
            " [ 4.87139474 12.19912795  0.          5.9711424   1.70720274]\n",
            " [ 4.52038826  4.46486723  4.37223279  0.          2.91726656]\n",
            " [11.63081212  0.          4.41907387 14.44361918  8.95435151]]\n"
          ]
        }
      ],
      "source": [
        "import numpy as np\n",
        "\n",
        "# Create a random vector of size 20 with float values in the range 1-20\n",
        "random_vector = np.random.uniform(1, 20, 20)\n",
        "\n",
        "# Reshape the array to 4 by 5\n",
        "reshaped_array = random_vector.reshape(4, 5)\n",
        "\n",
        "# Find indices of max values along each row\n",
        "row_max_indices = np.argmax(reshaped_array, axis=1)\n",
        "\n",
        "# Use np.where to replace max values with 0\n",
        "reshaped_array = np.where(\n",
        "    np.arange(5) == row_max_indices[:, None],  # Create a boolean mask for max values\n",
        "    0,  # Replace max values with 0\n",
        "    reshaped_array  # Keep other values unchanged\n",
        ")\n",
        "\n",
        "print(\"Original random vector:\")\n",
        "print(random_vector)\n",
        "print(\"\\nReshaped array with max values replaced by 0:\")\n",
        "print(reshaped_array)\n"
      ]
    }
  ]
}