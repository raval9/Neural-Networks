{
  "nbformat": 4,
  "nbformat_minor": 0,
  "metadata": {
    "colab": {
      "provenance": []
    },
    "kernelspec": {
      "name": "python3",
      "display_name": "Python 3"
    },
    "language_info": {
      "name": "python"
    }
  },
  "cells": [
    {
      "cell_type": "code",
      "execution_count": 3,
      "metadata": {
        "id": "Y3Kl6D4hWx-N",
        "outputId": "ecedb479-49ff-4eab-f65d-8628fc76d1cb",
        "colab": {
          "base_uri": "https://localhost:8080/"
        }
      },
      "outputs": [
        {
          "output_type": "stream",
          "name": "stdout",
          "text": [
            "Total number of employees: 3\n",
            "Average salary for all employees: 90000.0\n",
            "Average salary for FullTimeEmployee: 20000.0\n"
          ]
        }
      ],
      "source": [
        "class Employee:\n",
        "    # Class variable to count the number of Employees\n",
        "    employee_count = 0\n",
        "\n",
        "    def __init__(self, emp_name, emp_family, emp_salary, emp_department):\n",
        "        # Instance variables\n",
        "        self.name = emp_name\n",
        "        self.family = emp_family\n",
        "        self.salary = emp_salary\n",
        "        self.department = emp_department\n",
        "\n",
        "        # Increment the employee count\n",
        "        Employee.employee_count += 1\n",
        "\n",
        "    def average_salary(self, *salaries):\n",
        "        # Calculate and return the average salary\n",
        "        total_salary = sum(salaries) + self.salary\n",
        "        num_employees = len(salaries) + 1  # Include the current instance\n",
        "        return total_salary / num_employees\n",
        "\n",
        "\n",
        "class FullTimeEmployee(Employee):\n",
        "    # FullTimeEmployee class inheriting from Employee class\n",
        "    def __init__(self, emp_name, emp_family, emp_salary, emp_department, emp_bonus):\n",
        "        # Call the constructor of the parent class\n",
        "        super().__init__(emp_name, emp_family, emp_salary, emp_department)\n",
        "        # Additional property for FullTimeEmployee\n",
        "        self.bonus = emp_bonus\n",
        "\n",
        "\n",
        "# Creating instances of Employee and FullTimeEmployee\n",
        "employee1 = Employee(\"John Doe\", \"Family1\", 88000, \"HR\")\n",
        "employee2 = Employee(\"Jane Doe\", \"Family2\", 92000, \"Finance\")\n",
        "\n",
        "full_time_employee = FullTimeEmployee(\"Bob Smith\", \"Family3\", 20000, \"IT\", 15000)\n",
        "\n",
        "# Calling member functions\n",
        "average_salary_all = employee1.average_salary(employee2.salary)\n",
        "average_salary_full_time = full_time_employee.average_salary()\n",
        "\n",
        "# Displaying results\n",
        "print(f\"Total number of employees: {Employee.employee_count}\")\n",
        "print(f\"Average salary for all employees: {average_salary_all}\")\n",
        "print(f\"Average salary for FullTimeEmployee: {average_salary_full_time}\")\n"
      ]
    }
  ]
}